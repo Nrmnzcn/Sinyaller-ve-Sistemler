{
 "cells": [
  {
   "cell_type": "markdown",
   "metadata": {
    "id": "qkZWuBEwSkKO"
   },
   "source": [
    "# **SİNYALLER VE SİSTEMLER - UYGULAMA**\n"
   ]
  },
  {
   "cell_type": "markdown",
   "metadata": {
    "id": "FwDMG5FzSqad"
   },
   "source": [
    "## **PYTHON - GENEL BAKIŞ**"
   ]
  },
  {
   "cell_type": "markdown",
   "metadata": {
    "id": "UYRchof1UFG9"
   },
   "source": [
    "### **Neden Python?**\n",
    "\n"
   ]
  },
  {
   "cell_type": "markdown",
   "metadata": {
    "id": "u7ZHBjF63yK1"
   },
   "source": [
    "*   **Python** bilimsel verileri analiz etmek, matematiksel modeller oluşturmak, web tasarımı vb amaçlar ile birçok bilim insanı tarafından tercih edilen bir programlama dilidir. Komplex olmayan dil yapısı öğrenilebilirliği kolaylaştırırken açık kaynak kodlu bir dil olması ulaşılabilirliği arttırmıştır. Bundan dolayıdır ki Python son yıllarda [En Çok Kullanılan Programlama Dillerin](http://pypl.github.io/PYPL.html) başında gelmektedir.\n",
    "\n",
    "\n",
    "*   Öğrenme, kurulum, geliştirme süresindeki yükün minimum seviyede olması gibi avantajlardan dolayı **Sinyaller ve Sistemler** dersinin uygulamasında Python dili kullanılacaktır. Bu bölüm, Python'a giriş niteliğinde olup ders kapsamında kullanılacak fonksiyon ve kütüphaneleri tanıtmayı amaçlamaktadır. Python ile ilgili detaylara [The Python Tutorial](https://docs.python.org/2/tutorial/) linkinden ulaşabilir veya [Think Python](https://greenteapress.com/wp/think-python/) kitabının ücretsiz pdf dosyasından faydalanabilirsiniz.\n",
    " \n"
   ]
  },
  {
   "cell_type": "markdown",
   "metadata": {
    "id": "6nEFs3XdUQeo"
   },
   "source": [
    "### **Python Kurulumu**"
   ]
  },
  {
   "cell_type": "markdown",
   "metadata": {
    "id": "m76C6GV6-4it"
   },
   "source": [
    "*  **Python** resmi sayfasından [indirme](https://www.python.org/downloads/) bölümüne giderek işletim sisteminize uygun **Windows, Linux veya MacOS** sürümü indirebilirsiniz. İndirdiğiniz **Exe** dosyasını çalıştırdıktan sonra programın kurulumu aşamasında [PATH'e ekle](https://github.com/Nrmnzcn/Sinyaller-ve-Sistemler/blob/main/Yard%C4%B1mc%C4%B1%20Dosyalar/1%20-%20Pyhon%20Kurulum.png) bölümünü aktifleştirmeyi unutmayın. PATH ileriki aşamalarda Python kütüphanelerini indirmek için kullanacağımız bilgisayarımızın **komut** penceresidir. **Komut penceresine** arama çubuğuna aşağıdaki komutu yazarak ulaşılabilir.\n",
    "\n",
    "\n",
    "```\n",
    "> cmd\n",
    "```\n",
    "\n",
    "\n",
    "\n",
    "\n"
   ]
  },
  {
   "cell_type": "markdown",
   "metadata": {
    "id": "xo8avX43UQqy"
   },
   "source": [
    "### **Python Editörleri**"
   ]
  },
  {
   "cell_type": "markdown",
   "metadata": {
    "id": "kUAtr8kaCh5g"
   },
   "source": [
    "*   [Atom](https://atom.io/), [Pycharm](https://www.jetbrains.com/pycharm/), [Visual Studio Code](https://code.visualstudio.com/) vb gibi bir çok Python editörü mevcuttur kendinize uygun olanı kullanabilirsiniz. Biz ders kapsamında [Jupyter Notebook](https://jupyter.org/) kullanacağız. Jupyter notebook kurulumu için Komut Satırına aşağıdaki kodu yazın ve kurumun yapılmasını bekleyin. Kurulum tamamlandıktan sonra ise ikinci komut ile Jupyter Notebook kullanmaya başlayabilirsiniz.\n",
    "```\n",
    "> pip install notebook\n",
    "> jupyter notebook\n",
    "```\n",
    "\n",
    "\n",
    "*   Kurulumsuz kullanmak isteyenler için [Google Colab](https://colab.research.google.com/) iyi bir alternatif olacaktır. Google Colab'ı drive hesabınızdan online olarak kullanabilirsiniz.\n",
    "\n",
    "*   Ders Notlarına ve uygulama kodlarına [Github](https://github.com/Nrmnzcn/Sinyaller-ve-Sistemler) hesabımdan ulaşabilirsiniz.\n",
    "\n",
    "\n",
    "\n",
    "\n"
   ]
  },
  {
   "cell_type": "markdown",
   "metadata": {
    "id": "48omTnlPjS2l"
   },
   "source": [
    "## **PYTHON - GİRİŞ**"
   ]
  },
  {
   "cell_type": "markdown",
   "metadata": {
    "id": "S3VgBJ0dlBhB"
   },
   "source": [
    "#### **Temel Operatörler**"
   ]
  },
  {
   "cell_type": "markdown",
   "metadata": {
    "id": "zyatN_3yatmI"
   },
   "source": [
    "Hesap makinesi ile yapabileceğimiz pek çok şeyi **Python Temel Operatörleri** ile  basit bir şekilde yapabiliriz."
   ]
  },
  {
   "cell_type": "code",
   "execution_count": 15,
   "metadata": {
    "colab": {
     "base_uri": "https://localhost:8080/",
     "height": 34
    },
    "id": "SAqgskwHSiHX",
    "outputId": "452142a0-a3d9-4922-cf88-d4e9e917cd42"
   },
   "outputs": [
    {
     "data": {
      "text/plain": [
       "4"
      ]
     },
     "execution_count": 15,
     "metadata": {},
     "output_type": "execute_result"
    }
   ],
   "source": [
    "2+2"
   ]
  },
  {
   "cell_type": "code",
   "execution_count": 16,
   "metadata": {
    "colab": {
     "base_uri": "https://localhost:8080/",
     "height": 34
    },
    "id": "5BXdK5qljiAF",
    "outputId": "48c75cd4-c2e3-4eca-89de-503c6990f460"
   },
   "outputs": [
    {
     "data": {
      "text/plain": [
       "7.0"
      ]
     },
     "execution_count": 16,
     "metadata": {},
     "output_type": "execute_result"
    }
   ],
   "source": [
    "(65-10*3)/5"
   ]
  },
  {
   "cell_type": "code",
   "execution_count": 17,
   "metadata": {
    "colab": {
     "base_uri": "https://localhost:8080/",
     "height": 34
    },
    "id": "mGqaE36Vj5t-",
    "outputId": "b345efe9-1f37-4be5-b3cc-4607b7a02bbc"
   },
   "outputs": [
    {
     "data": {
      "text/plain": [
       "81"
      ]
     },
     "execution_count": 17,
     "metadata": {},
     "output_type": "execute_result"
    }
   ],
   "source": [
    "9**2"
   ]
  },
  {
   "cell_type": "code",
   "execution_count": 18,
   "metadata": {
    "colab": {
     "base_uri": "https://localhost:8080/",
     "height": 34
    },
    "id": "dVL1C0A4kDYH",
    "outputId": "eb874858-1b25-4d7c-cf00-91c94324b738"
   },
   "outputs": [
    {
     "data": {
      "text/plain": [
       "2.0"
      ]
     },
     "execution_count": 18,
     "metadata": {},
     "output_type": "execute_result"
    }
   ],
   "source": [
    "8/4.0"
   ]
  },
  {
   "cell_type": "markdown",
   "metadata": {
    "id": "ai_PGY3O6AZ-"
   },
   "source": [
    "#### **Değişken Tanımlama** "
   ]
  },
  {
   "cell_type": "code",
   "execution_count": 19,
   "metadata": {
    "colab": {
     "base_uri": "https://localhost:8080/",
     "height": 34
    },
    "id": "KHZpidw86Hrw",
    "outputId": "5feef271-b67a-439c-e69c-b2a36d68b0eb"
   },
   "outputs": [
    {
     "name": "stdout",
     "output_type": "stream",
     "text": [
      "1000\n"
     ]
    }
   ],
   "source": [
    "en = 25\n",
    "boy = 40\n",
    "\n",
    "alan = en*boy\n",
    "print(alan)"
   ]
  },
  {
   "cell_type": "code",
   "execution_count": 20,
   "metadata": {
    "colab": {
     "base_uri": "https://localhost:8080/",
     "height": 34
    },
    "id": "mtf0P2ggbGw4",
    "outputId": "3c49a521-b351-4848-9d1f-d5e32a153532"
   },
   "outputs": [
    {
     "name": "stdout",
     "output_type": "stream",
     "text": [
      "4913\n"
     ]
    }
   ],
   "source": [
    "sayı = 17\n",
    "küp = sayı**3\n",
    "print(küp)"
   ]
  },
  {
   "cell_type": "markdown",
   "metadata": {
    "id": "wO_QH4M5lFVb"
   },
   "source": [
    "#### **Foksiyon Kavramı** \n"
   ]
  },
  {
   "cell_type": "code",
   "execution_count": 21,
   "metadata": {
    "id": "_sIKq-ejlImf"
   },
   "outputs": [],
   "source": [
    "def toplama(x,y):\n",
    "    \n",
    "    toplam = x+y\n",
    "    return toplam"
   ]
  },
  {
   "cell_type": "code",
   "execution_count": 22,
   "metadata": {
    "colab": {
     "base_uri": "https://localhost:8080/",
     "height": 34
    },
    "id": "1umMirEJluw6",
    "outputId": "7fd0fec0-7f52-4ba9-f15c-b5e11b41d459"
   },
   "outputs": [
    {
     "name": "stdout",
     "output_type": "stream",
     "text": [
      "241\n"
     ]
    }
   ],
   "source": [
    "print(toplama(152,89))"
   ]
  },
  {
   "cell_type": "code",
   "execution_count": 23,
   "metadata": {
    "id": "pT-Di1sRlxhY"
   },
   "outputs": [],
   "source": [
    "def kare_alma(x):\n",
    "    \n",
    "    sonuç = x**2\n",
    "    return sonuç"
   ]
  },
  {
   "cell_type": "code",
   "execution_count": 24,
   "metadata": {
    "colab": {
     "base_uri": "https://localhost:8080/",
     "height": 34
    },
    "id": "-ykDLP6Qlxrz",
    "outputId": "123b4edc-1902-4974-ba81-b9f074e16b0f"
   },
   "outputs": [
    {
     "name": "stdout",
     "output_type": "stream",
     "text": [
      "361\n"
     ]
    }
   ],
   "source": [
    "print(kare_alma(19))"
   ]
  },
  {
   "cell_type": "markdown",
   "metadata": {
    "id": "nGG4GxF0yMLN"
   },
   "source": [
    "#### **Kütüphane Kavramı**"
   ]
  },
  {
   "cell_type": "markdown",
   "metadata": {
    "id": "5bQ7Rzn_beNg"
   },
   "source": [
    "Kütüphaneler için **belirli bir alana odaklanmış fonksiyonlar bütünüdür** tanımını yapmak yanlış olmaz."
   ]
  },
  {
   "cell_type": "code",
   "execution_count": 25,
   "metadata": {
    "id": "6tdb96b1yPuB"
   },
   "outputs": [],
   "source": [
    "import dortislem\n",
    "from dortislem import *"
   ]
  },
  {
   "cell_type": "markdown",
   "metadata": {},
   "source": [
    "Toplama, çıkarma, çarpma ve bölme fonksiyonları oluşturup **dortislem.py** adı ile kaydettik yani kendimize ilkel bir kütüphane oluşturduk."
   ]
  },
  {
   "cell_type": "code",
   "execution_count": 26,
   "metadata": {},
   "outputs": [
    {
     "name": "stdout",
     "output_type": "stream",
     "text": [
      "Help on module dortislem:\n",
      "\n",
      "NAME\n",
      "    dortislem\n",
      "\n",
      "FUNCTIONS\n",
      "    bolme(x, y)\n",
      "    \n",
      "    carpma(x, y)\n",
      "    \n",
      "    cikarma(x, y)\n",
      "    \n",
      "    toplama(x, y)\n",
      "\n",
      "FILE\n",
      "    c:\\users\\user\\desktop\\bi̇yomedi̇kal si̇nyal\\i̇ste uygulama\\dortislem.py\n",
      "\n",
      "\n"
     ]
    }
   ],
   "source": [
    "help(dortislem)"
   ]
  },
  {
   "cell_type": "code",
   "execution_count": 27,
   "metadata": {},
   "outputs": [
    {
     "data": {
      "text/plain": [
       "212"
      ]
     },
     "execution_count": 27,
     "metadata": {},
     "output_type": "execute_result"
    }
   ],
   "source": [
    "toplama(125,87)"
   ]
  },
  {
   "cell_type": "code",
   "execution_count": 28,
   "metadata": {},
   "outputs": [
    {
     "data": {
      "text/plain": [
       "0.4"
      ]
     },
     "execution_count": 28,
     "metadata": {},
     "output_type": "execute_result"
    }
   ],
   "source": [
    "bolme(2,5)"
   ]
  },
  {
   "cell_type": "markdown",
   "metadata": {
    "id": "awEMe5VR0UBb"
   },
   "source": [
    "##### **Yaygın Kullanılan Kütüphaneler**"
   ]
  },
  {
   "cell_type": "markdown",
   "metadata": {
    "id": "SamIrFPNcKAy"
   },
   "source": [
    "* [PANDAS](https://pandas.pydata.org/), veri analizi alanında en yaygın şekilde kullanılan kütüphanedir. \n",
    "* [NUMPY](https://), diziler ve matrisler üzerinde matematiksel işlemler yapılabilen kütüphanedir.\n",
    "* [SCIPY](https://) istatistiksek fonksiyonlar, integral alma, diferansiyel denklem çözümleri, sinyal işleme gibi çeşitli bilimsel alanları içerisinde barındıran kütüphanedir.\n",
    "* [MATPLOTLIB](https://), grafik işlemleri ve görselleştirme alanında en sık kullanılan Python kütüphanesidir."
   ]
  },
  {
   "cell_type": "markdown",
   "metadata": {
    "id": "wct2lcUX3prt"
   },
   "source": [
    "##### **Kütüphanelerin yüklenmesi**"
   ]
  },
  {
   "cell_type": "markdown",
   "metadata": {
    "id": "4JI47Ea7hFmt"
   },
   "source": [
    "CMD window penceresinden aşağıdaki komutlar ile yüklenebilir veya genel anlamda istediğiniz kütüphaneyi [Python Package Index](https://pypi.org/) adresinden bulabilir, indirme komutuna ve paketle ilgili diğer detaylara ulaşabilirsiniz.\n",
    "\n",
    "```\n",
    "> pip install pandas\n",
    "> pip install numpy\n",
    "> pip install scipy\n",
    "```\n",
    "\n"
   ]
  },
  {
   "cell_type": "markdown",
   "metadata": {
    "id": "jDKWp26C69il"
   },
   "source": [
    "##### **Kütüphanelerin Kullanımı**"
   ]
  },
  {
   "cell_type": "code",
   "execution_count": 29,
   "metadata": {
    "colab": {
     "base_uri": "https://localhost:8080/",
     "height": 34
    },
    "id": "TWRC3XUR3zhS",
    "outputId": "d35a0801-cb39-4481-eec3-f1c2cdb0800f"
   },
   "outputs": [
    {
     "data": {
      "text/plain": [
       "12.0"
      ]
     },
     "execution_count": 29,
     "metadata": {},
     "output_type": "execute_result"
    }
   ],
   "source": [
    "import math\n",
    "math.sqrt(144)"
   ]
  },
  {
   "cell_type": "code",
   "execution_count": 30,
   "metadata": {
    "colab": {
     "base_uri": "https://localhost:8080/",
     "height": 34
    },
    "id": "QDGDQS4mEbl2",
    "outputId": "5cc85a2a-835b-49f9-bfe7-726174fa8f42"
   },
   "outputs": [
    {
     "data": {
      "text/plain": [
       "120"
      ]
     },
     "execution_count": 30,
     "metadata": {},
     "output_type": "execute_result"
    }
   ],
   "source": [
    "math.factorial(5)"
   ]
  },
  {
   "cell_type": "code",
   "execution_count": 31,
   "metadata": {
    "colab": {
     "base_uri": "https://localhost:8080/",
     "height": 34
    },
    "id": "ncXx0qHNoTEe",
    "outputId": "94673ee4-3dd8-4b95-e5f5-8f7416d48e3e"
   },
   "outputs": [
    {
     "data": {
      "text/plain": [
       "3.0"
      ]
     },
     "execution_count": 31,
     "metadata": {},
     "output_type": "execute_result"
    }
   ],
   "source": [
    "math.log10(1000)"
   ]
  },
  {
   "cell_type": "code",
   "execution_count": 32,
   "metadata": {
    "colab": {
     "base_uri": "https://localhost:8080/",
     "height": 34
    },
    "id": "7NI_pwk1h54h",
    "outputId": "70e2fada-970e-4c74-c393-8282c1dd8ea7"
   },
   "outputs": [
    {
     "data": {
      "text/plain": [
       "28"
      ]
     },
     "execution_count": 32,
     "metadata": {},
     "output_type": "execute_result"
    }
   ],
   "source": [
    "import numpy\n",
    "numpy.multiply(4,7)"
   ]
  },
  {
   "cell_type": "code",
   "execution_count": 33,
   "metadata": {
    "colab": {
     "base_uri": "https://localhost:8080/",
     "height": 34
    },
    "id": "n2w7exu6FbSH",
    "outputId": "d4869a81-beed-490a-d225-32b4869e995c"
   },
   "outputs": [
    {
     "data": {
      "text/plain": [
       "6.0"
      ]
     },
     "execution_count": 33,
     "metadata": {},
     "output_type": "execute_result"
    }
   ],
   "source": [
    "import numpy as np\n",
    "np.divide(42, 7)\n"
   ]
  },
  {
   "cell_type": "markdown",
   "metadata": {
    "id": "pXUEnDM3cXd4"
   },
   "source": [
    "## **NUMPY**\n"
   ]
  },
  {
   "cell_type": "markdown",
   "metadata": {
    "id": "wy4dG-8aoiIX"
   },
   "source": [
    "### **Numpy Array**"
   ]
  },
  {
   "cell_type": "code",
   "execution_count": 34,
   "metadata": {
    "colab": {
     "base_uri": "https://localhost:8080/",
     "height": 34
    },
    "id": "S99RTOKSgELO",
    "outputId": "e6b7c3f7-448e-4c1c-f018-c1dbfd24ae20"
   },
   "outputs": [
    {
     "data": {
      "text/plain": [
       "array([ 3, -5,  0,  7, -1])"
      ]
     },
     "execution_count": 34,
     "metadata": {},
     "output_type": "execute_result"
    }
   ],
   "source": [
    "k = np.array([3, -5, 0, 7, -1])\n",
    "k"
   ]
  },
  {
   "cell_type": "code",
   "execution_count": 35,
   "metadata": {
    "colab": {
     "base_uri": "https://localhost:8080/",
     "height": 51
    },
    "id": "4kX6NQkXgQZU",
    "outputId": "7c41fc88-ca2a-4d8c-dd09-deb49a54972f"
   },
   "outputs": [
    {
     "data": {
      "text/plain": [
       "array([[  9., -15.],\n",
       "       [ -4.,   8.]])"
      ]
     },
     "execution_count": 35,
     "metadata": {},
     "output_type": "execute_result"
    }
   ],
   "source": [
    "l = np.array([[9, -15],[-4, 8]],'d')\n",
    "l"
   ]
  },
  {
   "cell_type": "markdown",
   "metadata": {
    "id": "9CNtX6DZ4ai3"
   },
   "source": [
    "### Array Özellikleri"
   ]
  },
  {
   "cell_type": "code",
   "execution_count": 36,
   "metadata": {
    "colab": {
     "base_uri": "https://localhost:8080/",
     "height": 34
    },
    "id": "iuQsgEoBou0D",
    "outputId": "7501f95b-0834-4eee-eb05-f7b6dcab6543"
   },
   "outputs": [
    {
     "data": {
      "text/plain": [
       "(numpy.ndarray, numpy.ndarray)"
      ]
     },
     "execution_count": 36,
     "metadata": {},
     "output_type": "execute_result"
    }
   ],
   "source": [
    "type(k), type(l)"
   ]
  },
  {
   "cell_type": "code",
   "execution_count": 37,
   "metadata": {
    "colab": {
     "base_uri": "https://localhost:8080/",
     "height": 34
    },
    "id": "iAEpue0Ko-3B",
    "outputId": "4de75be7-b130-4c15-c355-2bcb2c93ee71"
   },
   "outputs": [
    {
     "data": {
      "text/plain": [
       "((5,), (2, 2))"
      ]
     },
     "execution_count": 37,
     "metadata": {},
     "output_type": "execute_result"
    }
   ],
   "source": [
    "k.shape, l.shape"
   ]
  },
  {
   "cell_type": "code",
   "execution_count": 38,
   "metadata": {
    "colab": {
     "base_uri": "https://localhost:8080/",
     "height": 34
    },
    "id": "0-e1pdKM4o2i",
    "outputId": "6b635026-bf30-47ee-a908-fd61ac957549"
   },
   "outputs": [
    {
     "data": {
      "text/plain": [
       "20"
      ]
     },
     "execution_count": 38,
     "metadata": {},
     "output_type": "execute_result"
    }
   ],
   "source": [
    "k.nbytes"
   ]
  },
  {
   "cell_type": "code",
   "execution_count": 39,
   "metadata": {
    "colab": {
     "base_uri": "https://localhost:8080/",
     "height": 34
    },
    "id": "dXuYnGHM4jAi",
    "outputId": "6219fbd4-7853-49b5-9dba-ebfed2d82619"
   },
   "outputs": [
    {
     "data": {
      "text/plain": [
       "2"
      ]
     },
     "execution_count": 39,
     "metadata": {},
     "output_type": "execute_result"
    }
   ],
   "source": [
    "l.ndim"
   ]
  },
  {
   "cell_type": "markdown",
   "metadata": {
    "id": "kqUlzXvfrva5"
   },
   "source": [
    "### **Sıfır ve Bir matrisi** "
   ]
  },
  {
   "cell_type": "code",
   "execution_count": 40,
   "metadata": {
    "colab": {
     "base_uri": "https://localhost:8080/",
     "height": 68
    },
    "id": "ikOxXwWUgqyz",
    "outputId": "ecaf2be2-02b0-4f21-ac57-fc09dab4d972"
   },
   "outputs": [
    {
     "data": {
      "text/plain": [
       "array([[0., 0., 0.],\n",
       "       [0., 0., 0.],\n",
       "       [0., 0., 0.]])"
      ]
     },
     "execution_count": 40,
     "metadata": {},
     "output_type": "execute_result"
    }
   ],
   "source": [
    "z1 = np.zeros((3,3),'d')\n",
    "z1"
   ]
  },
  {
   "cell_type": "code",
   "execution_count": 41,
   "metadata": {
    "colab": {
     "base_uri": "https://localhost:8080/",
     "height": 85
    },
    "id": "SNNozrbMgt-T",
    "outputId": "cd8d1b10-2cd7-4efa-b2f6-1d30b477f47a"
   },
   "outputs": [
    {
     "data": {
      "text/plain": [
       "array([[0.],\n",
       "       [0.],\n",
       "       [0.],\n",
       "       [0.]])"
      ]
     },
     "execution_count": 41,
     "metadata": {},
     "output_type": "execute_result"
    }
   ],
   "source": [
    "z2 = np.zeros((4,1))\n",
    "z2"
   ]
  },
  {
   "cell_type": "code",
   "execution_count": 42,
   "metadata": {
    "colab": {
     "base_uri": "https://localhost:8080/",
     "height": 51
    },
    "id": "JSoQ5Qgp347p",
    "outputId": "cbff6b11-cccb-416f-972a-82726c3d2ebd"
   },
   "outputs": [
    {
     "data": {
      "text/plain": [
       "array([[1., 1.],\n",
       "       [1., 1.]])"
      ]
     },
     "execution_count": 42,
     "metadata": {},
     "output_type": "execute_result"
    }
   ],
   "source": [
    "o = np.ones((2,2))\n",
    "o"
   ]
  },
  {
   "cell_type": "markdown",
   "metadata": {
    "id": "slskJYJjrz_O"
   },
   "source": [
    "### **Birim Matris**"
   ]
  },
  {
   "cell_type": "code",
   "execution_count": 43,
   "metadata": {
    "colab": {
     "base_uri": "https://localhost:8080/",
     "height": 85
    },
    "id": "GFK4xGsKgxC1",
    "outputId": "470daae2-5c3e-4332-bd1e-0048139d8b56"
   },
   "outputs": [
    {
     "data": {
      "text/plain": [
       "array([[1., 0., 0., 0.],\n",
       "       [0., 1., 0., 0.],\n",
       "       [0., 0., 1., 0.],\n",
       "       [0., 0., 0., 1.]])"
      ]
     },
     "execution_count": 43,
     "metadata": {},
     "output_type": "execute_result"
    }
   ],
   "source": [
    "i = np.identity(4,'d')\n",
    "i"
   ]
  },
  {
   "cell_type": "markdown",
   "metadata": {
    "id": "I_wXkYg2uueg"
   },
   "source": [
    "### **Arange**\n",
    "\n",
    "arguments: start, stop, step"
   ]
  },
  {
   "cell_type": "code",
   "execution_count": 44,
   "metadata": {
    "colab": {
     "base_uri": "https://localhost:8080/",
     "height": 34
    },
    "id": "K1VqStJ5utzL",
    "outputId": "c894b119-e443-4491-e5fb-8155cf367e26"
   },
   "outputs": [
    {
     "data": {
      "text/plain": [
       "array([ 0,  5, 10, 15])"
      ]
     },
     "execution_count": 44,
     "metadata": {},
     "output_type": "execute_result"
    }
   ],
   "source": [
    "x = np.arange(0, 20, 5)\n",
    "x"
   ]
  },
  {
   "cell_type": "code",
   "execution_count": 45,
   "metadata": {
    "colab": {
     "base_uri": "https://localhost:8080/",
     "height": 68
    },
    "id": "HkYExDjzut3S",
    "outputId": "b5cd688b-cd66-475c-f030-05e5abf5b483"
   },
   "outputs": [
    {
     "data": {
      "text/plain": [
       "array([-1.00000000e+00, -8.00000000e-01, -6.00000000e-01, -4.00000000e-01,\n",
       "       -2.00000000e-01, -2.22044605e-16,  2.00000000e-01,  4.00000000e-01,\n",
       "        6.00000000e-01,  8.00000000e-01])"
      ]
     },
     "execution_count": 45,
     "metadata": {},
     "output_type": "execute_result"
    }
   ],
   "source": [
    "y = np.arange(-1, 1, 0.2)\n",
    "y"
   ]
  },
  {
   "cell_type": "markdown",
   "metadata": {
    "id": "HkiQizfFxQt6"
   },
   "source": [
    "### **Linspace**"
   ]
  },
  {
   "cell_type": "code",
   "execution_count": 46,
   "metadata": {
    "colab": {
     "base_uri": "https://localhost:8080/",
     "height": 102
    },
    "id": "arY82DZ9hdCT",
    "outputId": "7d4fa6f9-8ef9-4f35-b665-cd44730825d0"
   },
   "outputs": [
    {
     "data": {
      "text/plain": [
       "array([ 0.        ,  0.41666667,  0.83333333,  1.25      ,  1.66666667,\n",
       "        2.08333333,  2.5       ,  2.91666667,  3.33333333,  3.75      ,\n",
       "        4.16666667,  4.58333333,  5.        ,  5.41666667,  5.83333333,\n",
       "        6.25      ,  6.66666667,  7.08333333,  7.5       ,  7.91666667,\n",
       "        8.33333333,  8.75      ,  9.16666667,  9.58333333, 10.        ])"
      ]
     },
     "execution_count": 46,
     "metadata": {},
     "output_type": "execute_result"
    }
   ],
   "source": [
    "lin = np.linspace(0, 10, 25)\n",
    "lin"
   ]
  },
  {
   "cell_type": "code",
   "execution_count": 47,
   "metadata": {
    "colab": {
     "base_uri": "https://localhost:8080/",
     "height": 136
    },
    "id": "SexCE3ElzqbI",
    "outputId": "fb0735d0-1ea2-4144-97cf-9edceb3bca21"
   },
   "outputs": [
    {
     "data": {
      "text/plain": [
       "array([1.00000000e+00, 2.61015722e+00, 6.81292069e+00, 1.77827941e+01,\n",
       "       4.64158883e+01, 1.21152766e+02, 3.16227766e+02, 8.25404185e+02,\n",
       "       2.15443469e+03, 5.62341325e+03, 1.46779927e+04, 3.83118685e+04,\n",
       "       1.00000000e+05, 2.61015722e+05, 6.81292069e+05, 1.77827941e+06,\n",
       "       4.64158883e+06, 1.21152766e+07, 3.16227766e+07, 8.25404185e+07,\n",
       "       2.15443469e+08, 5.62341325e+08, 1.46779927e+09, 3.83118685e+09,\n",
       "       1.00000000e+10])"
      ]
     },
     "execution_count": 47,
     "metadata": {},
     "output_type": "execute_result"
    }
   ],
   "source": [
    "log = np.logspace(0, 10, 25)\n",
    "log"
   ]
  },
  {
   "cell_type": "markdown",
   "metadata": {
    "id": "t-bmYI-j2gBy"
   },
   "source": [
    "### **Random Data**"
   ]
  },
  {
   "cell_type": "markdown",
   "metadata": {
    "id": "xlm9TMT93Qu3"
   },
   "source": [
    "Rand - Uniform random numbers in 0-1"
   ]
  },
  {
   "cell_type": "code",
   "execution_count": 48,
   "metadata": {
    "colab": {
     "base_uri": "https://localhost:8080/",
     "height": 51
    },
    "id": "WfP1Yzfl2kOO",
    "outputId": "78b7f0f4-7ceb-41e2-9086-536ab8749c2d"
   },
   "outputs": [
    {
     "data": {
      "text/plain": [
       "array([[0.92119679, 0.40174163, 0.50025308],\n",
       "       [0.48594407, 0.17225173, 0.68691901]])"
      ]
     },
     "execution_count": 48,
     "metadata": {},
     "output_type": "execute_result"
    }
   ],
   "source": [
    "r1 = np.random.rand(2,3)\n",
    "r1"
   ]
  },
  {
   "cell_type": "markdown",
   "metadata": {
    "id": "Fel6XZh13i2_"
   },
   "source": [
    "Randn - Standard normal distributed random numbers"
   ]
  },
  {
   "cell_type": "code",
   "execution_count": 49,
   "metadata": {
    "colab": {
     "base_uri": "https://localhost:8080/",
     "height": 51
    },
    "id": "uaxjPJJy3h-Y",
    "outputId": "7cfe5f55-80b6-4428-ac1e-9c0a2f198159"
   },
   "outputs": [
    {
     "data": {
      "text/plain": [
       "array([[-1.09957419, -0.80819697],\n",
       "       [ 0.08795823, -1.44387827]])"
      ]
     },
     "execution_count": 49,
     "metadata": {},
     "output_type": "execute_result"
    }
   ],
   "source": [
    "r2 = np.random.randn(2,2)\n",
    "r2"
   ]
  },
  {
   "cell_type": "markdown",
   "metadata": {
    "id": "n63bbOQvd6GI"
   },
   "source": [
    "## **MATPLOTLIB** "
   ]
  },
  {
   "cell_type": "code",
   "execution_count": 50,
   "metadata": {
    "id": "UJV5mRvTiBPr"
   },
   "outputs": [],
   "source": [
    "import matplotlib.pyplot as plt"
   ]
  },
  {
   "cell_type": "code",
   "execution_count": 51,
   "metadata": {
    "colab": {
     "base_uri": "https://localhost:8080/",
     "height": 265
    },
    "id": "A5VQCjQ6hdK9",
    "outputId": "83bc45d9-aa10-44ee-ae42-bd459111b265"
   },
   "outputs": [
    {
     "data": {
      "image/png": "[encoded data removed]",
      "text/plain": [
       "<Figure size 432x288 with 1 Axes>"
      ]
     },
     "metadata": {
      "needs_background": "light"
     },
     "output_type": "display_data"
    }
   ],
   "source": [
    "lin = np.linspace(0, 10, 25)\n",
    "plt.plot(lin)\n",
    "plt.show()"
   ]
  },
  {
   "cell_type": "code",
   "execution_count": 52,
   "metadata": {
    "colab": {
     "base_uri": "https://localhost:8080/",
     "height": 276
    },
    "id": "UtJaW6cQd14u",
    "outputId": "44aad535-6846-4179-a98d-935727a42d6d"
   },
   "outputs": [
    {
     "data": {
      "image/png": "[encoded data removed]",
      "text/plain": [
       "<Figure size 432x288 with 1 Axes>"
      ]
     },
     "metadata": {
      "needs_background": "light"
     },
     "output_type": "display_data"
    }
   ],
   "source": [
    "log = np.logspace(0, 10, 25)\n",
    "plt.plot(log)\n",
    "plt.show()\n"
   ]
  },
  {
   "cell_type": "code",
   "execution_count": 59,
   "metadata": {
    "colab": {
     "base_uri": "https://localhost:8080/",
     "height": 265
    },
    "id": "5VX1mCHyhdQi",
    "outputId": "e0433b8f-ed37-41e4-fed5-7d8e2c826bbd"
   },
   "outputs": [
    {
     "data": {
      "image/png": "[encoded data removed]",
      "text/plain": [
       "<Figure size 432x288 with 1 Axes>"
      ]
     },
     "metadata": {
      "needs_background": "light"
     },
     "output_type": "display_data"
    }
   ],
   "source": [
    "x = np.linspace(-1,7,100)\n",
    "y = np.sin(x)\n",
    "\n",
    "plt.plot(x, y)\n",
    "plt.show()"
   ]
  },
  {
   "cell_type": "code",
   "execution_count": 54,
   "metadata": {
    "colab": {
     "base_uri": "https://localhost:8080/",
     "height": 265
    },
    "id": "2GrTWxErjzcl",
    "outputId": "80d226d0-e86c-4c4e-8be9-02a072c51c6c"
   },
   "outputs": [
    {
     "data": {
      "image/png": "[encoded data removed]",
      "text/plain": [
       "<Figure size 360x288 with 1 Axes>"
      ]
     },
     "metadata": {
      "needs_background": "light"
     },
     "output_type": "display_data"
    }
   ],
   "source": [
    "x = np.linspace(-1,7,100)\n",
    "y = np.cos(x)\n",
    "\n",
    "plt.figure(figsize=(5,4))\n",
    "plt.scatter(x, y, color='r', marker='x')\n",
    "plt.show()"
   ]
  },
  {
   "cell_type": "code",
   "execution_count": 57,
   "metadata": {
    "colab": {
     "base_uri": "https://localhost:8080/",
     "height": 320
    },
    "id": "cDvnxbcTl_8n",
    "outputId": "c8be7f13-27da-49bd-9b25-4d08e8efcdc4"
   },
   "outputs": [
    {
     "data": {
      "image/png": "[encoded data removed]",
      "text/plain": [
       "<Figure size 432x360 with 1 Axes>"
      ]
     },
     "metadata": {
      "needs_background": "light"
     },
     "output_type": "display_data"
    }
   ],
   "source": [
    "x = np.linspace(-1,7,100)\n",
    "y = np.sin(x)\n",
    "z = np.cos(x)\n",
    "\n",
    "plt.figure(figsize=(6,5))\n",
    "plt.plot(x, y, color='b', marker='o', label='sin(x)')\n",
    "plt.plot(x, z, color='r', marker='v', label='cos(x)')\n",
    "plt.legend()\n",
    "plt.show()"
   ]
  },
  {
   "cell_type": "code",
   "execution_count": null,
   "metadata": {},
   "outputs": [],
   "source": []
  }
 ],
 "metadata": {
  "colab": {
   "collapsed_sections": [
    "wO_QH4M5lFVb"
   ],
   "name": "H1 - Python Giriş.ipynb",
   "provenance": []
  },
  "kernelspec": {
   "display_name": "Python 3",
   "language": "python",
   "name": "python3"
  },
  "language_info": {
   "codemirror_mode": {
    "name": "ipython",
    "version": 3
   },
   "file_extension": ".py",
   "mimetype": "text/x-python",
   "name": "python",
   "nbconvert_exporter": "python",
   "pygments_lexer": "ipython3",
   "version": "3.7.9"
  }
 },
 "nbformat": 4,
 "nbformat_minor": 1
}
